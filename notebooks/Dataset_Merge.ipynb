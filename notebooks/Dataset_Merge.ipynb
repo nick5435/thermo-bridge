{
 "cells": [
  {
   "cell_type": "code",
   "execution_count": 1,
   "metadata": {
    "ExecuteTime": {
     "end_time": "2017-04-12T01:00:06.922008Z",
     "start_time": "2017-04-11T20:00:04.415071-05:00"
    },
    "collapsed": true,
    "run_control": {
     "frozen": false,
     "read_only": false
    }
   },
   "outputs": [],
   "source": [
    "import pandas as pd\n",
    "import numpy as np\n",
    "import matplotlib.pyplot as plt, mpld3\n",
    "from ThermoPyle import *\n",
    "%matplotlib notebook\n",
    "mpld3.enable_notebook()\n",
    "plt.style.use([\"seaborn-talk\", \"seaborn-notebook\", \"seaborn-paper\"])"
   ]
  },
  {
   "cell_type": "code",
   "execution_count": null,
   "metadata": {
    "ExecuteTime": {
     "start_time": "2017-04-12T01:00:08.662Z"
    },
    "collapsed": true,
    "run_control": {
     "frozen": false,
     "read_only": false
    }
   },
   "outputs": [],
   "source": [
    "waterD = CSVFluid(\"../finalData/Water_T-217_P-217_U_with_derivatives\")"
   ]
  },
  {
   "cell_type": "code",
   "execution_count": 19,
   "metadata": {
    "ExecuteTime": {
     "end_time": "2017-04-10T01:15:09.836381Z",
     "start_time": "2017-04-09T20:14:55.711778-05:00"
    },
    "collapsed": true,
    "run_control": {
     "frozen": false,
     "read_only": false
    }
   },
   "outputs": [],
   "source": [
    "Water = ThermoFluid()"
   ]
  },
  {
   "cell_type": "code",
   "execution_count": 20,
   "metadata": {
    "ExecuteTime": {
     "end_time": "2017-04-10T01:15:09.848381Z",
     "start_time": "2017-04-09T20:15:09.838390-05:00"
    },
    "collapsed": true,
    "run_control": {
     "frozen": false,
     "read_only": false
    }
   },
   "outputs": [],
   "source": [
    "Water.data = waterD.data"
   ]
  },
  {
   "cell_type": "code",
   "execution_count": 21,
   "metadata": {
    "ExecuteTime": {
     "end_time": "2017-04-10T01:15:26.800642Z",
     "start_time": "2017-04-09T20:15:26.785640-05:00"
    },
    "collapsed": true,
    "run_control": {
     "frozen": false,
     "read_only": false
    }
   },
   "outputs": [],
   "source": [
    "Water.data[\"V\"] = pd.Series(Water.M / Water.data[\"D\"], index=Water.data.index)\n",
    "Water.vars = list(set(Water.vars).union(list(Water.data.columns)))\n",
    "Water.make_units()\n",
    "Water.make_meta()"
   ]
  },
  {
   "cell_type": "code",
   "execution_count": 27,
   "metadata": {
    "ExecuteTime": {
     "end_time": "2017-04-10T01:17:52.250114Z",
     "start_time": "2017-04-09T20:17:25.609559-05:00"
    },
    "collapsed": true,
    "run_control": {
     "frozen": false,
     "read_only": false
    }
   },
   "outputs": [],
   "source": [
    "Water.write_data(mode=\"dual\", path=\"../finalData/\", filename=\"with_Volume_and_ders\")"
   ]
  },
  {
   "cell_type": "code",
   "execution_count": 23,
   "metadata": {
    "ExecuteTime": {
     "end_time": "2017-04-10T01:15:37.214248Z",
     "start_time": "2017-04-09T20:15:37.170247-05:00"
    },
    "run_control": {
     "frozen": false,
     "read_only": false
    }
   },
   "outputs": [
    {
     "data": {
      "text/html": [
       "<div>\n",
       "<table border=\"1\" class=\"dataframe\">\n",
       "  <thead>\n",
       "    <tr style=\"text-align: right;\">\n",
       "      <th></th>\n",
       "      <th>T</th>\n",
       "      <th>P</th>\n",
       "      <th>U</th>\n",
       "      <th>d(S)/d(U)|P</th>\n",
       "      <th>d(D)/d(T)|S</th>\n",
       "      <th>d(U)/d(T)|S</th>\n",
       "      <th>d(U)/d(T)|D</th>\n",
       "      <th>d(T)/d(D)|P</th>\n",
       "      <th>d(P)/d(U)|S</th>\n",
       "      <th>d(P)/d(G)|T</th>\n",
       "      <th>...</th>\n",
       "      <th>d(P)/d(D)|T</th>\n",
       "      <th>d(G)/d(U)|T</th>\n",
       "      <th>d(S)/d(G)|T</th>\n",
       "      <th>d(T)/d(U)|D</th>\n",
       "      <th>d(D)/d(G)|S</th>\n",
       "      <th>d(S)/d(P)|D</th>\n",
       "      <th>d(P)/d(S)|U</th>\n",
       "      <th>d(S)/d(T)|U</th>\n",
       "      <th>D</th>\n",
       "      <th>V</th>\n",
       "    </tr>\n",
       "  </thead>\n",
       "  <tbody>\n",
       "    <tr>\n",
       "      <th>0</th>\n",
       "      <td>281.216866</td>\n",
       "      <td>4.608904e+06</td>\n",
       "      <td>33824.479133</td>\n",
       "      <td>0.003556</td>\n",
       "      <td>97.352592</td>\n",
       "      <td>446.887828</td>\n",
       "      <td>4177.846549</td>\n",
       "      <td>-13.649741</td>\n",
       "      <td>455942.789048</td>\n",
       "      <td>1002.01292</td>\n",
       "      <td>...</td>\n",
       "      <td>2.091388e+06</td>\n",
       "      <td>-54.461351</td>\n",
       "      <td>-0.000073</td>\n",
       "      <td>0.000239</td>\n",
       "      <td>0.000479</td>\n",
       "      <td>0.000097</td>\n",
       "      <td>-1.282085e+08</td>\n",
       "      <td>-1.779464</td>\n",
       "      <td>1002.01292</td>\n",
       "      <td>0.000018</td>\n",
       "    </tr>\n",
       "    <tr>\n",
       "      <th>1</th>\n",
       "      <td>281.216866</td>\n",
       "      <td>9.217196e+06</td>\n",
       "      <td>33737.457761</td>\n",
       "      <td>0.003557</td>\n",
       "      <td>82.857915</td>\n",
       "      <td>757.334553</td>\n",
       "      <td>4159.504239</td>\n",
       "      <td>-11.735102</td>\n",
       "      <td>231361.330627</td>\n",
       "      <td>1004.20534</td>\n",
       "      <td>...</td>\n",
       "      <td>2.112507e+06</td>\n",
       "      <td>-51.233454</td>\n",
       "      <td>-0.000085</td>\n",
       "      <td>0.000240</td>\n",
       "      <td>0.000475</td>\n",
       "      <td>0.000082</td>\n",
       "      <td>-6.505054e+07</td>\n",
       "      <td>-3.292547</td>\n",
       "      <td>1004.20534</td>\n",
       "      <td>0.000018</td>\n",
       "    </tr>\n",
       "  </tbody>\n",
       "</table>\n",
       "<p>2 rows × 128 columns</p>\n",
       "</div>"
      ],
      "text/plain": [
       "            T             P             U  d(S)/d(U)|P  d(D)/d(T)|S  \\\n",
       "0  281.216866  4.608904e+06  33824.479133     0.003556    97.352592   \n",
       "1  281.216866  9.217196e+06  33737.457761     0.003557    82.857915   \n",
       "\n",
       "   d(U)/d(T)|S  d(U)/d(T)|D  d(T)/d(D)|P    d(P)/d(U)|S  d(P)/d(G)|T  \\\n",
       "0   446.887828  4177.846549   -13.649741  455942.789048   1002.01292   \n",
       "1   757.334553  4159.504239   -11.735102  231361.330627   1004.20534   \n",
       "\n",
       "     ...      d(P)/d(D)|T  d(G)/d(U)|T  d(S)/d(G)|T  d(T)/d(U)|D  d(D)/d(G)|S  \\\n",
       "0    ...     2.091388e+06   -54.461351    -0.000073     0.000239     0.000479   \n",
       "1    ...     2.112507e+06   -51.233454    -0.000085     0.000240     0.000475   \n",
       "\n",
       "   d(S)/d(P)|D   d(P)/d(S)|U  d(S)/d(T)|U           D         V  \n",
       "0     0.000097 -1.282085e+08    -1.779464  1002.01292  0.000018  \n",
       "1     0.000082 -6.505054e+07    -3.292547  1004.20534  0.000018  \n",
       "\n",
       "[2 rows x 128 columns]"
      ]
     },
     "execution_count": 23,
     "metadata": {},
     "output_type": "execute_result"
    }
   ],
   "source": [
    "Water.data.head(2)"
   ]
  },
  {
   "cell_type": "code",
   "execution_count": 26,
   "metadata": {
    "ExecuteTime": {
     "end_time": "2017-04-10T01:17:21.595328Z",
     "start_time": "2017-04-09T20:17:21.587328-05:00"
    },
    "collapsed": true,
    "run_control": {
     "frozen": false,
     "read_only": false
    }
   },
   "outputs": [],
   "source": [
    "Water.zvar=\"U\"\n",
    "Water.make_meta()"
   ]
  },
  {
   "cell_type": "code",
   "execution_count": null,
   "metadata": {
    "ExecuteTime": {
     "start_time": "2017-04-12T01:00:17.206Z"
    },
    "collapsed": true,
    "run_control": {
     "frozen": false,
     "read_only": false
    }
   },
   "outputs": [],
   "source": [
    "dir(waterD)"
   ]
  },
  {
   "cell_type": "code",
   "execution_count": null,
   "metadata": {
    "collapsed": true
   },
   "outputs": [],
   "source": []
  }
 ],
 "metadata": {
  "kernelspec": {
   "display_name": "Python (3.6)",
   "language": "python",
   "name": "python3"
  },
  "language_info": {
   "codemirror_mode": {
    "name": "ipython",
    "version": 3
   },
   "file_extension": ".py",
   "mimetype": "text/x-python",
   "name": "python",
   "nbconvert_exporter": "python",
   "pygments_lexer": "ipython3",
   "version": "3.6.3"
  },
  "varInspector": {
   "cols": {
    "lenName": 16,
    "lenType": 16,
    "lenVar": 40
   },
   "kernels_config": {
    "python": {
     "delete_cmd_postfix": "",
     "delete_cmd_prefix": "del ",
     "library": "var_list.py",
     "varRefreshCmd": "print(var_dic_list())"
    },
    "r": {
     "delete_cmd_postfix": ") ",
     "delete_cmd_prefix": "rm(",
     "library": "var_list.r",
     "varRefreshCmd": "cat(var_dic_list()) "
    }
   },
   "types_to_exclude": [
    "module",
    "function",
    "builtin_function_or_method",
    "instance",
    "_Feature"
   ],
   "window_display": false
  }
 },
 "nbformat": 4,
 "nbformat_minor": 2
}
