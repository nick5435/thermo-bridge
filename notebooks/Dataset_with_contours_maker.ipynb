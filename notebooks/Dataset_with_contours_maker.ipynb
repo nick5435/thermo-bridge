{
 "cells": [
  {
   "cell_type": "code",
   "execution_count": 1,
   "metadata": {
    "ExecuteTime": {
     "end_time": "2017-04-10T01:00:20.997748Z",
     "start_time": "2017-04-09T20:00:18.268808-05:00"
    },
    "collapsed": true,
    "outputExpanded": false,
    "run_control": {
     "frozen": false,
     "read_only": true
    }
   },
   "outputs": [],
   "source": [
    "import pandas as pd\n",
    "import numpy as np\n",
    "import matplotlib.pyplot as plt, mpld3\n",
    "from ThermoPyle import *\n",
    "%matplotlib notebook\n",
    "mpld3.enable_notebook()\n",
    "plt.style.use([\"seaborn-talk\",\"seaborn-notebook\",\"seaborn-paper\"])"
   ]
  },
  {
   "cell_type": "code",
   "execution_count": null,
   "metadata": {
    "ExecuteTime": {
     "end_time": "2017-02-22T23:08:07.723671Z",
     "start_time": "2017-02-22T17:08:00.646143-06:00"
    },
    "outputExpanded": false,
    "run_control": {
     "frozen": false,
     "read_only": true
    }
   },
   "outputs": [],
   "source": [
    "myfluid = TP.ThermoFluid(\"Water\", \"T\", \"P\", \"U\", [217, 217], \"viridis\")\n",
    "print(myfluid.data.shape)\n",
    "rescaled = myfluid.data.copy()"
   ]
  },
  {
   "cell_type": "code",
   "execution_count": null,
   "metadata": {
    "ExecuteTime": {
     "end_time": "2017-02-22T23:04:26.390637Z",
     "start_time": "2017-02-22T17:04:26.335643-06:00"
    },
    "collapsed": true,
    "outputExpanded": false,
    "run_control": {
     "frozen": false,
     "read_only": true
    }
   },
   "outputs": [],
   "source": [
    "tmax = max(myfluid.data[\"T\"])\n",
    "tmin = min(myfluid.data[\"T\"])\n",
    "trange = [tmin, tmax]\n",
    "pmax = max(myfluid.data[\"P\"])\n",
    "pmin = min(myfluid.data[\"P\"])\n",
    "prange = [pmin, pmax]\n",
    "umax = max(myfluid.data[\"U\"])\n",
    "umin = min(myfluid.data[\"U\"])\n",
    "urange = [umin, umax]\n"
   ]
  },
  {
   "cell_type": "code",
   "execution_count": null,
   "metadata": {
    "ExecuteTime": {
     "end_time": "2017-02-22T23:08:08.031752Z",
     "start_time": "2017-02-22T17:08:07.727661-06:00"
    },
    "outputExpanded": false,
    "run_control": {
     "frozen": false,
     "read_only": false
    }
   },
   "outputs": [],
   "source": [
    "rescaled[\"T\"] = rescaled[\"T\"].apply(rescale(trange, [0,216]))\n",
    "rescaled[\"P\"] = rescaled[\"P\"].apply(rescale(prange, [0,216]))\n",
    "rescaled[\"U\"] = rescaled[\"U\"].apply(rescale(urange, [15, 152]))"
   ]
  },
  {
   "cell_type": "code",
   "execution_count": null,
   "metadata": {
    "ExecuteTime": {
     "end_time": "2017-02-22T23:08:09.099336Z",
     "start_time": "2017-02-22T17:08:09.016315-06:00"
    },
    "outputExpanded": false,
    "run_control": {
     "frozen": false,
     "read_only": false
    }
   },
   "outputs": [],
   "source": [
    "for i in range(4):\n",
    "    dU = 2 + i\n",
    "    uSel = 25 + 25*i\n",
    "    rescaled.ix[np.abs(rescaled[\"U\"] - uSel) <= 1, 'U'] = rescaled.ix[np.abs(rescaled[\"U\"] - uSel) <= 1 , \"U\"] + dU\n",
    "    rescaled.ix[np.abs(rescaled[\"U\"] - uSel - 12.5) <= 1.5, 'U'] = rescaled.ix[np.abs(rescaled[\"U\"] - uSel - 12.5) <= 1.5 , \"U\"] - dU\n"
   ]
  },
  {
   "cell_type": "code",
   "execution_count": null,
   "metadata": {
    "ExecuteTime": {
     "end_time": "2017-02-22T23:08:19.648734Z",
     "start_time": "2017-02-22T17:08:19.643728-06:00"
    },
    "run_control": {
     "frozen": false,
     "read_only": false
    }
   },
   "outputs": [],
   "source": [
    "myfluid.data = rescaled"
   ]
  },
  {
   "cell_type": "code",
   "execution_count": null,
   "metadata": {
    "ExecuteTime": {
     "end_time": "2017-02-22T23:08:22.658847Z",
     "start_time": "2017-02-22T17:08:22.348836-06:00"
    },
    "run_control": {
     "frozen": false,
     "read_only": false
    }
   },
   "outputs": [],
   "source": [
    "TP.fluid_plot(myfluid)"
   ]
  },
  {
   "cell_type": "code",
   "execution_count": null,
   "metadata": {
    "ExecuteTime": {
     "end_time": "2017-02-22T23:09:09.806084Z",
     "start_time": "2017-02-22T17:09:09.333046-06:00"
    },
    "run_control": {
     "frozen": false,
     "read_only": false
    }
   },
   "outputs": [],
   "source": [
    "myfluid.write_data('../data/')"
   ]
  },
  {
   "cell_type": "code",
   "execution_count": null,
   "metadata": {
    "collapsed": true,
    "run_control": {
     "frozen": false,
     "read_only": false
    }
   },
   "outputs": [],
   "source": []
  }
 ],
 "metadata": {
  "kernel_info": {
   "name": "python3"
  },
  "kernelspec": {
   "display_name": "Python (3.6)",
   "language": "python",
   "name": "python3"
  },
  "language_info": {
   "codemirror_mode": {
    "name": "ipython",
    "version": 3
   },
   "file_extension": ".py",
   "mimetype": "text/x-python",
   "name": "python",
   "nbconvert_exporter": "python",
   "pygments_lexer": "ipython3",
   "version": "3.6.3"
  },
  "latex_envs": {
   "LaTeX_envs_menu_present": true,
   "bibliofile": "biblio.bib",
   "cite_by": "apalike",
   "current_citInitial": 1,
   "eqLabelWithNumbers": true,
   "eqNumInitial": 1,
   "hotkeys": {
    "equation": "Ctrl-E",
    "itemize": "Ctrl-I"
   },
   "labels_anchors": false,
   "latex_user_defs": false,
   "report_style_numbering": false,
   "user_envs_cfg": false
  },
  "varInspector": {
   "cols": {
    "lenName": 16,
    "lenType": 16,
    "lenVar": 40
   },
   "kernels_config": {
    "python": {
     "delete_cmd_postfix": "",
     "delete_cmd_prefix": "del ",
     "library": "var_list.py",
     "varRefreshCmd": "print(var_dic_list())"
    },
    "r": {
     "delete_cmd_postfix": ") ",
     "delete_cmd_prefix": "rm(",
     "library": "var_list.r",
     "varRefreshCmd": "cat(var_dic_list()) "
    }
   },
   "types_to_exclude": [
    "module",
    "function",
    "builtin_function_or_method",
    "instance",
    "_Feature"
   ],
   "window_display": false
  }
 },
 "nbformat": 4,
 "nbformat_minor": 2
}
