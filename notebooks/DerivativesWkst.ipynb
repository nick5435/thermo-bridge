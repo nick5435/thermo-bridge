{
 "cells": [
  {
   "cell_type": "code",
   "execution_count": null,
   "metadata": {
    "ExecuteTime": {
     "end_time": "2017-02-27T04:38:07.328777Z",
     "start_time": "2017-02-26T22:38:04.914789-06:00"
    },
    "collapsed": false,
    "extensions": {
     "jupyter_dashboards": {
      "version": 1,
      "views": {
       "grid_default": {},
       "report_default": {
        "hidden": true
       }
      }
     }
    },
    "init_cell": true,
    "run_control": {
     "frozen": false,
     "read_only": false
    }
   },
   "outputs": [],
   "source": [
    "import pandas as pd\n",
    "import numpy as np\n",
    "import matplotlib.pyplot as plt, mpld3\n",
    "import ThermoPyle as TP\n",
    "import CoolProp.CoolProp as CP\n",
    "from cytoolz import get\n",
    "%matplotlib notebook\n",
    "mpld3.enable_notebook()\n",
    "#print(plt.style.available)\n",
    "plt.style.use([\"seaborn-talk\",\"seaborn-notebook\",\"seaborn-paper\"])\n",
    "rescale = lambda old, new: lambda x: (new[1] - new[0]) / (old[1] - old[0])*(x - old[0]) + new[0]"
   ]
  },
  {
   "cell_type": "code",
   "execution_count": null,
   "metadata": {
    "ExecuteTime": {
     "end_time": "2017-02-27T04:38:13.718683Z",
     "start_time": "2017-02-26T22:38:07.332773-06:00"
    },
    "collapsed": false,
    "init_cell": true,
    "run_control": {
     "frozen": false,
     "read_only": false
    }
   },
   "outputs": [],
   "source": [
    "myfluid = TP.ThermoFluid(\"Water\", \"T\", \"P\", \"U\", [216, 216], \"viridis\")\n",
    "print(myfluid.data.shape)"
   ]
  },
  {
   "cell_type": "code",
   "execution_count": null,
   "metadata": {
    "ExecuteTime": {
     "end_time": "2017-02-27T04:39:19.659523Z",
     "start_time": "2017-02-26T22:38:45.736925-06:00"
    },
    "collapsed": false,
    "run_control": {
     "frozen": false,
     "read_only": false
    }
   },
   "outputs": [],
   "source": [
    "newCols = {\"d(U)/d(T)|P\",\"d(U)/d(P)|T\",\"d(U)/d(S)|P\",\"S\"}\n",
    "myfluid.add_column(newCols)\n",
    "rescaled = myfluid.copy()"
   ]
  },
  {
   "cell_type": "code",
   "execution_count": null,
   "metadata": {
    "ExecuteTime": {
     "end_time": "2017-02-27T04:39:19.739504Z",
     "start_time": "2017-02-26T22:39:19.662504-06:00"
    },
    "collapsed": false,
    "run_control": {
     "frozen": false,
     "read_only": false
    }
   },
   "outputs": [],
   "source": [
    "tmax = max(myfluid.data[\"T\"])\n",
    "tmin = min(myfluid.data[\"T\"])\n",
    "trange = [tmin, tmax]\n",
    "pmax = max(myfluid.data[\"P\"])\n",
    "pmin = min(myfluid.data[\"P\"])\n",
    "prange = [pmin, pmax]\n",
    "umax = max(myfluid.data[\"U\"])\n",
    "umin = min(myfluid.data[\"U\"])\n",
    "urange = [umin, umax]\n",
    "smax = max(myfluid.data[\"S\"])\n",
    "smin = min(myfluid.data[\"S\"])\n",
    "srange = [smin,smax]\n",
    "dmax1 = max(myfluid.data[\"d(U)/d(T)|P\"])\n",
    "dmin1 = min(myfluid.data[\"d(U)/d(T)|P\"])\n",
    "drange1 = [dmin1, dmax1]\n",
    "dmax2 = max(myfluid.data[\"d(U)/d(P)|T\"])\n",
    "dmin2 = min(myfluid.data[\"d(U)/d(P)|T\"])\n",
    "drange2 = [dmin2, dmax2]\n",
    "dmax3 = max(myfluid.data[\"d(U)/d(S)|P\"])\n",
    "dmin3 = min(myfluid.data[\"d(U)/d(S)|P\"])\n",
    "drange3 = [dmin3,dmax3]"
   ]
  },
  {
   "cell_type": "code",
   "execution_count": null,
   "metadata": {
    "ExecuteTime": {
     "end_time": "2017-02-27T04:39:20.182499Z",
     "start_time": "2017-02-26T22:39:19.743502-06:00"
    },
    "collapsed": true,
    "run_control": {
     "frozen": false,
     "read_only": false
    }
   },
   "outputs": [],
   "source": [
    "rescaled.data[\"T\"] = rescaled.data[\"T\"].apply(rescale(trange, [0,216]))\n",
    "rescaled.data[\"P\"] = rescaled.data[\"P\"].apply(rescale(prange, [0,216]))\n",
    "rescaled.data[\"S\"] = rescaled.data[\"S\"].apply(rescale(srange, [0,216]))\n",
    "rescaled.data[\"U\"] = rescaled.data[\"U\"].apply(rescale(urange, [15, 152]))"
   ]
  },
  {
   "cell_type": "code",
   "execution_count": null,
   "metadata": {
    "ExecuteTime": {
     "end_time": "2017-02-27T04:39:20.230494Z",
     "start_time": "2017-02-26T22:39:20.190500-06:00"
    },
    "collapsed": false,
    "run_control": {
     "frozen": false,
     "read_only": false
    }
   },
   "outputs": [],
   "source": [
    "# for i in range(4):\n",
    "#     dU = 2 + i\n",
    "#     uSel = 25 + 25*i\n",
    "#     rescaled.data.ix[np.abs(rescaled.data[\"U\"] - uSel) <= 1, 'U'] = rescaled.data.ix[np.abs(rescaled.data[\"U\"] - uSel) <= 1 , \"U\"] + dU\n",
    "\n",
    "rescaled.data.ix[np.abs(rescaled.data[\"d(U)/d(S)|P\"] - 400) <= 50, 'U'] = rescaled.data.ix[np.abs(rescaled.data[\"d(U)/d(S)|P\"] - 400) <= 50, 'U'] + 5"
   ]
  },
  {
   "cell_type": "code",
   "execution_count": null,
   "metadata": {
    "ExecuteTime": {
     "end_time": "2017-02-27T04:39:24.784864Z",
     "start_time": "2017-02-26T22:39:24.760860-06:00"
    },
    "collapsed": false,
    "run_control": {
     "frozen": false,
     "read_only": false
    }
   },
   "outputs": [],
   "source": [
    "myfluid2 = rescaled.copy()\n",
    "#myfluid2.xvar = \"S\"\n",
    "#myfluid2.vars[0] = \"S\"\n",
    "#myfluid2.units[0] = \"J/kg*K\"\n",
    "myfluid2.clean()\n",
    "myfluid2.make_meta()\n",
    "myfluid2.meta\n",
    "#TP.fluid_plot(myfluid2)"
   ]
  },
  {
   "cell_type": "code",
   "execution_count": null,
   "metadata": {
    "ExecuteTime": {
     "end_time": "2017-02-27T04:39:58.620413Z",
     "start_time": "2017-02-26T22:39:57.619432-06:00"
    },
    "collapsed": false,
    "run_control": {
     "frozen": false,
     "read_only": false
    }
   },
   "outputs": [],
   "source": [
    "rescaled.write_data(\"../finalData/\")"
   ]
  },
  {
   "cell_type": "code",
   "execution_count": null,
   "metadata": {
    "collapsed": true,
    "run_control": {
     "frozen": false,
     "read_only": false
    }
   },
   "outputs": [],
   "source": []
  }
 ],
 "metadata": {
  "extensions": {
   "jupyter_dashboards": {
    "activeView": "report_default",
    "version": 1,
    "views": {
     "grid_default": {
      "name": "grid",
      "type": "grid"
     },
     "report_default": {
      "name": "report",
      "type": "report"
     }
    }
   }
  },
  "kernelspec": {
   "display_name": "Python 3",
   "language": "python",
   "name": "python3"
  },
  "language_info": {
   "codemirror_mode": {
    "name": "ipython",
    "version": 3
   },
   "file_extension": ".py",
   "mimetype": "text/x-python",
   "name": "python",
   "nbconvert_exporter": "python",
   "pygments_lexer": "ipython3",
   "version": "3.6.0"
  },
  "latex_envs": {
   "LaTeX_envs_menu_present": true,
   "bibliofile": "biblio.bib",
   "cite_by": "apalike",
   "current_citInitial": 1,
   "eqLabelWithNumbers": true,
   "eqNumInitial": 1,
   "hotkeys": {
    "equation": "Ctrl-E",
    "itemize": "Ctrl-I"
   },
   "labels_anchors": false,
   "latex_user_defs": false,
   "report_style_numbering": false,
   "user_envs_cfg": false
  }
 },
 "nbformat": 4,
 "nbformat_minor": 2
}
