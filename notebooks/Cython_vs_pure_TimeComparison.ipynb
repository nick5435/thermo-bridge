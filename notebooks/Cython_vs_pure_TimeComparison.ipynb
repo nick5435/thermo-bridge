{
 "cells": [
  {
   "cell_type": "markdown",
   "metadata": {},
   "source": [
    "# Cython vs Pure Python Time Comparison:\n",
    "This notebook is designed to test the two versions of ThermoPyle as the currently stand (2017-05-12). We want to know if Cython makes a difference in computation time compared to pure Python. To do this, we will use statistical methods at the $N=35$ level."
   ]
  },
  {
   "cell_type": "code",
   "execution_count": 1,
   "metadata": {
    "ExecuteTime": {
     "end_time": "2017-05-14T00:44:29.720130Z",
     "start_time": "2017-05-14T00:44:27.166128Z"
    },
    "collapsed": true,
    "extensions": {
     "jupyter_dashboards": {
      "version": 1,
      "views": {
       "grid_default": {
        "hidden": true
       },
       "report_default": {
        "hidden": true
       }
      }
     }
    }
   },
   "outputs": [],
   "source": [
    "import pandas as pd\n",
    "import matplotlib.pyplot as plt, mpld3\n",
    "import ThermoPyleCYTHON as TPX\n",
    "import ThermoPyleRAW as TP\n",
    "import numpy as np\n",
    "import itertools as it\n",
    "%matplotlib notebook\n",
    "mpld3.enable_notebook()\n",
    "#print(plt.style.available)\n",
    "plt.style.use([\"seaborn-talk\",\"seaborn-notebook\",\"seaborn-paper\"])\n",
    "from timeit import default_timer as timer\n",
    "doc = lambda obj: print(obj.__doc__)"
   ]
  },
  {
   "cell_type": "code",
   "execution_count": 2,
   "metadata": {
    "ExecuteTime": {
     "end_time": "2017-05-14T00:44:31.390996Z",
     "start_time": "2017-05-14T00:44:31.324994Z"
    },
    "collapsed": true,
    "extensions": {
     "jupyter_dashboards": {
      "version": 1,
      "views": {
       "grid_default": {
        "hidden": true
       },
       "report_default": {
        "hidden": true
       }
      }
     }
    }
   },
   "outputs": [],
   "source": [
    "def test_ThermoFluid(Water: TP.ThermoFluid) -> None:\n",
    "    Water.add_column([\"S\", \"D\"])\n",
    "    #Water.data[\"V\"] = pd.Series(Water.M / Water.data[\"D\"], index=Water.data.index)\n",
    "    Water.refresh()\n",
    "    d_vars = set(Water.vars)\n",
    "    newCols = {f\"d({z})/d({y})|{x}\" for x,y,z in it.permutations(d_vars, 3)}.union(d_vars).difference(set(Water.vars))\n",
    "    #print(f\"Number of newCls: {len(newCols)}\")\n",
    "    for col in newCols:\n",
    "        try:    \n",
    "            Water.add_column(col)\n",
    "        except:\n",
    "            pass\n",
    "    Water.refresh()\n",
    "\n",
    "def TP_test(accum):\n",
    "    start = timer()\n",
    "    WaterTP = TP.ThermoFluid(fluid=\"Water\", xvar=\"T\", yvar=\"P\", zvar=\"U\", numPoints=[217,217])\n",
    "    test_ThermoFluid(WaterTP)\n",
    "    end = timer()\n",
    "    accum.append(end - start)\n",
    "    del(WaterTP)\n",
    "    \n",
    "def TPX_test(accum):\n",
    "    start = timer()\n",
    "    WaterTPX = TPX.ThermoFluid(fluid=\"Water\", xvar=\"T\", yvar=\"P\", zvar=\"U\", numPoints=[217,217])\n",
    "    test_ThermoFluid(WaterTPX)\n",
    "    end = timer()\n",
    "    accum.append(end - start)\n",
    "    del(WaterTPX)"
   ]
  },
  {
   "cell_type": "code",
   "execution_count": 3,
   "metadata": {
    "ExecuteTime": {
     "end_time": "2017-05-14T01:16:16.329399Z",
     "start_time": "2017-05-14T00:44:34.519431Z"
    },
    "collapsed": true,
    "extensions": {
     "jupyter_dashboards": {
      "version": 1,
      "views": {
       "grid_default": {
        "hidden": true
       },
       "report_default": {
        "hidden": true
       }
      }
     }
    }
   },
   "outputs": [],
   "source": [
    "TPX_times = []\n",
    "TP_times = []\n",
    "for i in range(35):\n",
    "    TPX_test(TPX_times)\n",
    "    TP_test(TP_times)"
   ]
  },
  {
   "cell_type": "code",
   "execution_count": 51,
   "metadata": {
    "ExecuteTime": {
     "end_time": "2017-05-14T01:32:03.296340Z",
     "start_time": "2017-05-14T01:32:03.228339Z"
    },
    "extensions": {
     "jupyter_dashboards": {
      "version": 1,
      "views": {
       "grid_default": {
        "hidden": true
       },
       "report_default": {
        "hidden": true
       }
      }
     }
    }
   },
   "outputs": [
    {
     "name": "stdout",
     "output_type": "stream",
     "text": [
      "===========================================================\n",
      "Analysis for ThermoPyle Speeds (Cython vs Pure Python)\n",
      "===========================================================    \n",
      "    Summary Statistics:\n",
      "    -------------------------------\n",
      "    Pure Python MEAN:     27.143570\n",
      "    Pure Python STD DEV:  1.077716\n",
      "    Cython MEAN:          27.193202\n",
      "    Cython STD DEV:       1.079805\n",
      "    \n",
      "    Tests:\n",
      "    ------------------------------------\n",
      "    Levene's Test:\n",
      "        Test Statistic:   0.097300\n",
      "        Equal Variances?: False\n",
      "        \n",
      "    Welch's t-Test:\n",
      "        Mode:             two-sided\n",
      "        Test Statistic:   -0.189696\n",
      "        P:                0.850112\n",
      "        \n",
      "    Confidence Interval for Difference:\n",
      "        Lower Limit       0.472459\n",
      "        Mean Difference   -0.049632\n",
      "        Upper Limit:      0.571722\n",
      "\n",
      "-----------------------------------------------------------\n",
      "Significant?:         No\n",
      "Meaning:              No difference in computational times.\n",
      "-----------------------------------------------------------\n",
      "\n",
      "End of Analysis.\n",
      "===========================================================\n",
      "\n"
     ]
    }
   ],
   "source": [
    "import numpy as np\n",
    "import scipy.stats as stats\n",
    "import statsmodels.stats.api as sms\n",
    "import statsmodels.api as sm\n",
    "\n",
    "#Test Setup\n",
    "alternative=\"two-sided\"\n",
    "\n",
    "#Models:\n",
    "tp = np.array(TP_times)\n",
    "tpx = np.array(TPX_times)\n",
    "w, equal_var_p = stats.levene(tp, tpx)\n",
    "equal_var = bool(equal_var_p <= 0.05)\n",
    "t, p_value = stats.ttest_ind(TP_times, TPX_times, equal_var=equal_var)\n",
    "\n",
    "usevar = 'pooled' if equal_var else 'unequal'\n",
    "\n",
    "tp_stats = sms.DescrStatsW(tp)\n",
    "tpx_stats = sms.DescrStatsW(tpx)\n",
    "\n",
    "cm = sms.CompareMeans(tp_stats, tpx_stats)\n",
    "# alpha=0.05, use_t=True, value=0.0\n",
    "l, u = cm.tconfint_diff(alpha=0.05, usevar=usevar, alternative=alternative)\n",
    "\n",
    "U = max(map(abs, [l,u]))\n",
    "L = min(map(abs, [l,u]))\n",
    "\n",
    "#sms_summary = cm.summary(alpha=0.05, use_t=True, value=0.0, usevar=usevar)\n",
    "\n",
    "summary = f\"\"\"{\"=\"*(22+len(\"No difference in computational times.\" if p_value>0.05 else \"Difference in Mean Computational times.\"))}\n",
    "Analysis for ThermoPyle Speeds (Cython vs Pure Python)\n",
    "{\"=\"*(22+len(\"No difference in computational times.\" if p_value>0.05 else \"Difference in Mean Computational times.\"))}    \n",
    "    Summary Statistics:\n",
    "    -------------------------------\n",
    "    Pure Python MEAN:     {np.mean(tp):5f}\n",
    "    Pure Python STD DEV:  {np.std(tp):5f}\n",
    "    Cython MEAN:          {np.mean(tpx):5f}\n",
    "    Cython STD DEV:       {np.std(tpx):5f}\n",
    "    \n",
    "    Tests:\n",
    "    ------------------------------------\n",
    "    Levene's Test:\n",
    "        Test Statistic:   {w:5f}\n",
    "        Equal Variances?: {equal_var}\n",
    "        \n",
    "    {\"Welch's\" if not(equal_var) else \"Student's\"} t-Test:\n",
    "        Mode:             {alternative}\n",
    "        Test Statistic:   {t:5f}\n",
    "        P:                {p_value:5f}\n",
    "        \n",
    "    Confidence Interval for Difference:\n",
    "        Lower Limit       {L:5f}\n",
    "        Mean Difference   {((l+u)/2):5f}\n",
    "        Upper Limit:      {U:5f}\n",
    "\n",
    "{\"-\"*(22+len(\"No difference in computational times.\" if p_value>0.05 else \"Difference in Mean Computational times.\"))}\n",
    "Significant?:         {\"No\" if p_value>0.05 else \"Yes\"}\n",
    "Meaning:              {\"No difference in computational times.\" if p_value>0.05 else \"Difference in Mean Computational times.\"}\n",
    "{\"-\"*(22+len(\"No difference in computational times.\" if p_value>0.05 else \"Difference in Mean Computational times.\"))}\n",
    "\n",
    "End of Analysis.\n",
    "{\"=\"*(22+len(\"No difference in computational times.\" if p_value>0.05 else \"Difference in Mean Computational times.\"))}\n",
    "\"\"\"\n",
    "print(summary)"
   ]
  },
  {
   "cell_type": "markdown",
   "metadata": {
    "ExecuteTime": {
     "end_time": "2017-05-14T01:18:35.894162Z",
     "start_time": "2017-05-14T01:18:35.887159Z"
    }
   },
   "source": [
    "# Conclusion:\n",
    "I'm switching back to using raw python, the extra steps for Cython aren't worth it for us (apparently)."
   ]
  }
 ],
 "metadata": {
  "extensions": {
   "jupyter_dashboards": {
    "activeView": "grid_default",
    "version": 1,
    "views": {
     "grid_default": {
      "cellMargin": 10,
      "defaultCellHeight": 20,
      "maxColumns": 12,
      "name": "grid",
      "type": "grid"
     },
     "report_default": {
      "name": "report",
      "type": "report"
     }
    }
   }
  },
  "kernelspec": {
   "display_name": "Python 3",
   "language": "python",
   "name": "python3"
  },
  "language_info": {
   "codemirror_mode": {
    "name": "ipython",
    "version": 3
   },
   "file_extension": ".py",
   "mimetype": "text/x-python",
   "name": "python",
   "nbconvert_exporter": "python",
   "pygments_lexer": "ipython3",
   "version": "3.6.1"
  },
  "latex_envs": {
   "LaTeX_envs_menu_present": true,
   "autocomplete": true,
   "bibliofile": "biblio.bib",
   "cite_by": "apalike",
   "current_citInitial": 1,
   "eqLabelWithNumbers": true,
   "eqNumInitial": 1,
   "hotkeys": {
    "equation": "Ctrl-E",
    "itemize": "Ctrl-I"
   },
   "labels_anchors": false,
   "latex_user_defs": false,
   "report_style_numbering": false,
   "user_envs_cfg": false
  },
  "varInspector": {
   "cols": {
    "lenName": 16,
    "lenType": 16,
    "lenVar": 40
   },
   "kernels_config": {
    "python": {
     "delete_cmd_postfix": "",
     "delete_cmd_prefix": "del ",
     "library": "var_list.py",
     "varRefreshCmd": "print(var_dic_list())"
    },
    "r": {
     "delete_cmd_postfix": ") ",
     "delete_cmd_prefix": "rm(",
     "library": "var_list.r",
     "varRefreshCmd": "cat(var_dic_list()) "
    }
   },
   "types_to_exclude": [
    "module",
    "function",
    "builtin_function_or_method",
    "instance",
    "_Feature"
   ],
   "window_display": false
  }
 },
 "nbformat": 4,
 "nbformat_minor": 2
}
