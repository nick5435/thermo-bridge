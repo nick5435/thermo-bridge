{
 "cells": [
  {
   "cell_type": "code",
   "execution_count": 1,
   "metadata": {
    "ExecuteTime": {
     "end_time": "2017-04-05T15:56:25.262638Z",
     "start_time": "2017-04-05T10:56:18.052248-05:00"
    },
    "outputExpanded": false,
    "run_control": {
     "frozen": false,
     "read_only": false
    }
   },
   "outputs": [],
   "source": [
    "import pandas as pd\n",
    "import matplotlib.pyplot as plt, mpld3\n",
    "import ThermoPyle as TP\n",
    "import numpy as np\n",
    "%matplotlib notebook\n",
    "mpld3.enable_notebook()\n",
    "#print(plt.style.available)\n",
    "plt.style.use([\"seaborn-talk\",\"seaborn-notebook\",\"seaborn-paper\"])"
   ]
  },
  {
   "cell_type": "code",
   "execution_count": 2,
   "metadata": {
    "ExecuteTime": {
     "end_time": "2017-04-05T15:56:51.566306Z",
     "start_time": "2017-04-05T10:56:34.817020-05:00"
    },
    "outputExpanded": false,
    "run_control": {
     "frozen": false,
     "read_only": false
    }
   },
   "outputs": [],
   "source": [
    "Water = TP.ThermoFluid(fluid=\"Water\", xvar=\"T\", yvar=\"P\", zvar=\"U\", numPoints=[217,217])"
   ]
  },
  {
   "cell_type": "code",
   "execution_count": 3,
   "metadata": {
    "ExecuteTime": {
     "end_time": "2017-04-05T15:57:34.516212Z",
     "start_time": "2017-04-05T10:57:05.431562-05:00"
    },
    "run_control": {
     "frozen": false,
     "read_only": false
    }
   },
   "outputs": [],
   "source": [
    "Water.add_column([\"S\", \"D\"])"
   ]
  },
  {
   "cell_type": "code",
   "execution_count": 6,
   "metadata": {
    "ExecuteTime": {
     "end_time": "2017-04-05T16:01:15.265372Z",
     "start_time": "2017-04-05T11:01:15.255849-05:00"
    },
    "run_control": {
     "frozen": false,
     "read_only": false
    }
   },
   "outputs": [],
   "source": [
    "Water.data[\"V\"] = pd.Series(Water.M / Water.data[\"D\"], index=Water.data.index)"
   ]
  },
  {
   "cell_type": "code",
   "execution_count": 10,
   "metadata": {
    "ExecuteTime": {
     "end_time": "2017-04-05T16:03:21.375763Z",
     "start_time": "2017-04-05T11:03:19.939527-05:00"
    },
    "collapsed": true
   },
   "outputs": [],
   "source": [
    "Water.write_data(path=\"../finalData/\", filename=\"_withVolume\", mode=\"dual\")"
   ]
  },
  {
   "cell_type": "code",
   "execution_count": 9,
   "metadata": {
    "ExecuteTime": {
     "end_time": "2017-04-05T16:02:25.902897Z",
     "start_time": "2017-04-05T11:02:25.870914-05:00"
    }
   },
   "outputs": [
    {
     "name": "stdout",
     "output_type": "stream",
     "text": [
      "\n",
      "        Does what it says on the tin. Makes a CSV and JSON files and saves them to path given.\n",
      "\n",
      "        Parameters:\n",
      "\n",
      "            path (str): path where file should be saved\n",
      "\n",
      "            filename (str): what to name the file\n",
      "\n",
      "            mode (str): How to name the file:\n",
      "                -  **default**: ``FluidName_X-xpoints_Y-ypoints_Z``;\n",
      "                -  **custom**: fully custom name;\n",
      "                -  **dual**: default + custom.\n",
      "        \n"
     ]
    }
   ],
   "source": [
    "print(Water.write_data.__doc__)"
   ]
  },
  {
   "cell_type": "code",
   "execution_count": null,
   "metadata": {
    "collapsed": true
   },
   "outputs": [],
   "source": []
  }
 ],
 "metadata": {
  "celltoolbar": "Raw Cell Format",
  "kernel_info": {
   "name": "python3"
  },
  "kernelspec": {
   "display_name": "Python 3",
   "language": "python",
   "name": "python3"
  },
  "language_info": {
   "codemirror_mode": {
    "name": "ipython",
    "version": 3
   },
   "file_extension": ".py",
   "mimetype": "text/x-python",
   "name": "python",
   "nbconvert_exporter": "python",
   "pygments_lexer": "ipython3",
   "version": "3.6.1"
  },
  "latex_envs": {
   "LaTeX_envs_menu_present": true,
   "bibliofile": "biblio.bib",
   "cite_by": "apalike",
   "current_citInitial": 1,
   "eqLabelWithNumbers": true,
   "eqNumInitial": 1,
   "hotkeys": {
    "equation": "Ctrl-E",
    "itemize": "Ctrl-I"
   },
   "labels_anchors": false,
   "latex_user_defs": false,
   "report_style_numbering": false,
   "user_envs_cfg": false
  }
 },
 "nbformat": 4,
 "nbformat_minor": 1
}
