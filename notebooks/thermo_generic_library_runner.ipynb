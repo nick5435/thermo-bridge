{
 "cells": [
  {
   "cell_type": "code",
   "execution_count": 9,
   "metadata": {
    "ExecuteTime": {
     "end_time": "2017-04-27T14:39:27.443905Z",
     "start_time": "2017-04-27T14:39:27.425908Z"
    },
    "collapsed": true,
    "outputExpanded": false,
    "run_control": {
     "frozen": false,
     "read_only": false
    }
   },
   "outputs": [],
   "source": [
    "import pandas as pd\n",
    "import matplotlib.pyplot as plt, mpld3\n",
    "import ThermoPyle as TP\n",
    "import numpy as np\n",
    "import itertools as it\n",
    "%matplotlib notebook\n",
    "mpld3.enable_notebook()\n",
    "#print(plt.style.available)\n",
    "plt.style.use([\"seaborn-talk\",\"seaborn-notebook\",\"seaborn-paper\"])"
   ]
  },
  {
   "cell_type": "code",
   "execution_count": 2,
   "metadata": {
    "ExecuteTime": {
     "end_time": "2017-04-27T14:37:23.467561Z",
     "start_time": "2017-04-27T14:37:12.779224Z"
    },
    "collapsed": true,
    "outputExpanded": false,
    "run_control": {
     "frozen": false,
     "read_only": false
    }
   },
   "outputs": [],
   "source": [
    "Water = TP.ThermoFluid(fluid=\"Water\", xvar=\"T\", yvar=\"P\", zvar=\"U\", numPoints=[217,217])"
   ]
  },
  {
   "cell_type": "code",
   "execution_count": 3,
   "metadata": {
    "ExecuteTime": {
     "end_time": "2017-04-27T14:37:47.334992Z",
     "start_time": "2017-04-27T14:37:27.922375Z"
    },
    "collapsed": true,
    "run_control": {
     "frozen": false,
     "read_only": false
    }
   },
   "outputs": [],
   "source": [
    "Water.add_column([\"S\", \"D\"])"
   ]
  },
  {
   "cell_type": "code",
   "execution_count": 4,
   "metadata": {
    "ExecuteTime": {
     "end_time": "2017-04-27T14:38:01.251887Z",
     "start_time": "2017-04-27T14:38:01.238885Z"
    },
    "collapsed": true,
    "run_control": {
     "frozen": false,
     "read_only": false
    }
   },
   "outputs": [],
   "source": [
    "Water.data[\"V\"] = pd.Series(Water.M / Water.data[\"D\"], index=Water.data.index)"
   ]
  },
  {
   "cell_type": "code",
   "execution_count": 7,
   "metadata": {
    "ExecuteTime": {
     "end_time": "2017-04-27T14:38:38.587597Z",
     "start_time": "2017-04-27T14:38:38.563598Z"
    }
   },
   "outputs": [
    {
     "data": {
      "text/plain": [
       "{'D', 'P', 'S', 'T', 'U', 'V'}"
      ]
     },
     "execution_count": 7,
     "metadata": {},
     "output_type": "execute_result"
    }
   ],
   "source": [
    "Water.refresh()\n",
    "Water.vars"
   ]
  },
  {
   "cell_type": "code",
   "execution_count": 12,
   "metadata": {
    "ExecuteTime": {
     "end_time": "2017-04-27T14:39:53.107908Z",
     "start_time": "2017-04-27T14:39:53.093905Z"
    }
   },
   "outputs": [
    {
     "data": {
      "text/plain": [
       "60"
      ]
     },
     "execution_count": 12,
     "metadata": {},
     "output_type": "execute_result"
    }
   ],
   "source": [
    "d_vars = set(Water.vars).difference({\"V\"})\n",
    "newCols = {f\"d({z})/d({y})|{x}\" for x,y,z in it.permutations(d_vars, 3)}.union(d_vars).difference(set(Water.vars))\n",
    "# print(newCols)\n",
    "#len(newCols)"
   ]
  },
  {
   "cell_type": "code",
   "execution_count": null,
   "metadata": {
    "collapsed": true
   },
   "outputs": [],
   "source": [
    "for col in newCols:\n",
    "    try:    \n",
    "        Water.add_column(col)\n",
    "    except:\n",
    "        print(\"Failed\")\n",
    "Water.refresh()"
   ]
  },
  {
   "cell_type": "code",
   "execution_count": 10,
   "metadata": {
    "ExecuteTime": {
     "end_time": "2017-04-05T16:03:21.375763Z",
     "start_time": "2017-04-05T11:03:19.939527-05:00"
    },
    "collapsed": true
   },
   "outputs": [],
   "source": [
    "Water.write_data(path=\"../finalData/\", filename=\"_withVolume\", mode=\"dual\")"
   ]
  },
  {
   "cell_type": "code",
   "execution_count": 9,
   "metadata": {
    "ExecuteTime": {
     "end_time": "2017-04-05T16:02:25.902897Z",
     "start_time": "2017-04-05T11:02:25.870914-05:00"
    }
   },
   "outputs": [
    {
     "name": "stdout",
     "output_type": "stream",
     "text": [
      "\n",
      "        Does what it says on the tin. Makes a CSV and JSON files and saves them to path given.\n",
      "\n",
      "        Parameters:\n",
      "\n",
      "            path (str): path where file should be saved\n",
      "\n",
      "            filename (str): what to name the file\n",
      "\n",
      "            mode (str): How to name the file:\n",
      "                -  **default**: ``FluidName_X-xpoints_Y-ypoints_Z``;\n",
      "                -  **custom**: fully custom name;\n",
      "                -  **dual**: default + custom.\n",
      "        \n"
     ]
    }
   ],
   "source": [
    "print(Water.write_data.__doc__)"
   ]
  },
  {
   "cell_type": "code",
   "execution_count": null,
   "metadata": {
    "collapsed": true
   },
   "outputs": [],
   "source": []
  }
 ],
 "metadata": {
  "celltoolbar": "Raw Cell Format",
  "kernel_info": {
   "name": "python3"
  },
  "kernelspec": {
   "display_name": "Python 3",
   "language": "python",
   "name": "python3"
  },
  "language_info": {
   "codemirror_mode": {
    "name": "ipython",
    "version": 3
   },
   "file_extension": ".py",
   "mimetype": "text/x-python",
   "name": "python",
   "nbconvert_exporter": "python",
   "pygments_lexer": "ipython3",
   "version": "3.6.1"
  },
  "latex_envs": {
   "LaTeX_envs_menu_present": true,
   "bibliofile": "biblio.bib",
   "cite_by": "apalike",
   "current_citInitial": 1,
   "eqLabelWithNumbers": true,
   "eqNumInitial": 1,
   "hotkeys": {
    "equation": "Ctrl-E",
    "itemize": "Ctrl-I"
   },
   "labels_anchors": false,
   "latex_user_defs": false,
   "report_style_numbering": false,
   "user_envs_cfg": false
  },
  "varInspector": {
   "cols": {
    "lenName": 16,
    "lenType": 16,
    "lenVar": 40
   },
   "kernels_config": {
    "python": {
     "delete_cmd_postfix": "",
     "delete_cmd_prefix": "del ",
     "library": "var_list.py",
     "varRefreshCmd": "print(var_dic_list())"
    },
    "r": {
     "delete_cmd_postfix": ") ",
     "delete_cmd_prefix": "rm(",
     "library": "var_list.r",
     "varRefreshCmd": "cat(var_dic_list()) "
    }
   },
   "types_to_exclude": [
    "module",
    "function",
    "builtin_function_or_method",
    "instance",
    "_Feature"
   ],
   "window_display": false
  }
 },
 "nbformat": 4,
 "nbformat_minor": 1
}
