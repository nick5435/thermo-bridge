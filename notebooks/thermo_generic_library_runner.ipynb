{
 "cells": [
  {
   "cell_type": "code",
   "execution_count": 1,
   "metadata": {
    "ExecuteTime": {
     "end_time": "2017-03-06T23:50:49.538057Z",
     "start_time": "2017-03-06T17:50:43.719121-06:00"
    },
    "collapsed": false,
    "deletable": true,
    "editable": true,
    "outputExpanded": false,
    "run_control": {
     "frozen": false,
     "read_only": false
    }
   },
   "outputs": [],
   "source": [
    "import pandas as pd\n",
    "import matplotlib.pyplot as plt, mpld3\n",
    "import ThermoPyle as TP\n",
    "%matplotlib notebook\n",
    "mpld3.enable_notebook()\n",
    "#print(plt.style.available)\n",
    "plt.style.use([\"seaborn-talk\",\"seaborn-notebook\",\"seaborn-paper\"])"
   ]
  },
  {
   "cell_type": "code",
   "execution_count": 2,
   "metadata": {
    "ExecuteTime": {
     "end_time": "2017-03-06T23:50:58.360063Z",
     "start_time": "2017-03-06T17:50:50.260062-06:00"
    },
    "collapsed": false,
    "deletable": true,
    "editable": true,
    "outputExpanded": false,
    "run_control": {
     "frozen": false,
     "read_only": false
    }
   },
   "outputs": [
    {
     "name": "stdout",
     "output_type": "stream",
     "text": [
      "(46656, 3)\n"
     ]
    }
   ],
   "source": [
    "myfluid = TP.ThermoFluid(\"Water\", \"T\", \"P\", \"U\", [216, 216], \"viridis\")\n",
    "print(myfluid.data.shape)"
   ]
  },
  {
   "cell_type": "code",
   "execution_count": null,
   "metadata": {
    "collapsed": false,
    "deletable": true,
    "editable": true,
    "run_control": {
     "frozen": false,
     "read_only": false
    }
   },
   "outputs": [],
   "source": [
    "filtered_Data = myfluid.data[np.abs(myfluid.data[\"U\"] - 750000) <= 1000]\n",
    "modified_data = filtered_Data.copy()\n",
    "modified_data[\"U\"] = filtered_Data['U'].apply(lambda x: x + 10000)"
   ]
  },
  {
   "cell_type": "code",
   "execution_count": null,
   "metadata": {
    "collapsed": false,
    "deletable": true,
    "editable": true,
    "run_control": {
     "frozen": false,
     "read_only": false
    }
   },
   "outputs": [],
   "source": [
    "# Plotting:\n",
    "fig = plt.figure()\n",
    "\n",
    "    # we want 3D plots\n",
    "ax = fig.add_subplot(111, projection=\"3d\")\n",
    "\n",
    "    # Plot the data\n",
    "ax.scatter(\n",
    "    modified_data[\"T\"],\n",
    "    modified_data[\"P\"],\n",
    "    modified_data[\"U\"],\n",
    "    c=modified_data[\"U\"],\n",
    "    cmap=\"viridis\",\n",
    "    edgecolors=\"none\")\n",
    "plt.show()"
   ]
  },
  {
   "cell_type": "code",
   "execution_count": 5,
   "metadata": {
    "ExecuteTime": {
     "end_time": "2017-03-06T23:52:18.195166Z",
     "start_time": "2017-03-06T17:52:17.492164-06:00"
    },
    "collapsed": false,
    "deletable": true,
    "editable": true,
    "run_control": {
     "frozen": false,
     "read_only": false
    }
   },
   "outputs": [],
   "source": [
    "myfluid.write_data(r\"../data/\", filename=\"test\", nameMode=\"dual\")"
   ]
  },
  {
   "cell_type": "code",
   "execution_count": null,
   "metadata": {
    "collapsed": false,
    "deletable": true,
    "editable": true,
    "run_control": {
     "frozen": false,
     "read_only": false
    }
   },
   "outputs": [],
   "source": [
    "TP.fluid_plot(myfluid)"
   ]
  },
  {
   "cell_type": "code",
   "execution_count": null,
   "metadata": {
    "collapsed": false,
    "deletable": true,
    "editable": true,
    "run_control": {
     "frozen": false,
     "read_only": false
    }
   },
   "outputs": [],
   "source": [
    "fname= r\"../data/T-100_P-100_U\" \n",
    "new = TP.CSVFluid(fname)"
   ]
  },
  {
   "cell_type": "code",
   "execution_count": null,
   "metadata": {
    "collapsed": false,
    "deletable": true,
    "editable": true,
    "run_control": {
     "frozen": false,
     "read_only": false
    }
   },
   "outputs": [],
   "source": [
    "TP.fluid_plot(new)"
   ]
  },
  {
   "cell_type": "code",
   "execution_count": null,
   "metadata": {
    "collapsed": true,
    "deletable": true,
    "editable": true,
    "run_control": {
     "frozen": false,
     "read_only": false
    }
   },
   "outputs": [],
   "source": []
  }
 ],
 "metadata": {
  "celltoolbar": "Raw Cell Format",
  "kernel_info": {
   "name": "python3"
  },
  "kernelspec": {
   "display_name": "Python 3",
   "language": "python",
   "name": "python3"
  },
  "language_info": {
   "codemirror_mode": {
    "name": "ipython",
    "version": 3
   },
   "file_extension": ".py",
   "mimetype": "text/x-python",
   "name": "python",
   "nbconvert_exporter": "python",
   "pygments_lexer": "ipython3",
   "version": "3.6.0"
  },
  "latex_envs": {
   "LaTeX_envs_menu_present": true,
   "bibliofile": "biblio.bib",
   "cite_by": "apalike",
   "current_citInitial": 1,
   "eqLabelWithNumbers": true,
   "eqNumInitial": 1,
   "hotkeys": {
    "equation": "Ctrl-E",
    "itemize": "Ctrl-I"
   },
   "labels_anchors": false,
   "latex_user_defs": false,
   "report_style_numbering": false,
   "user_envs_cfg": false
  }
 },
 "nbformat": 4,
 "nbformat_minor": 0
}
