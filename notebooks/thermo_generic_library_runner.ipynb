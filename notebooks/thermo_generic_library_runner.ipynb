{
 "cells": [
  {
   "cell_type": "code",
   "execution_count": null,
   "metadata": {
    "ExecuteTime": {
     "end_time": "2017-12-15T19:25:57.257380Z",
     "start_time": "2017-12-15T19:25:57.088697Z"
    },
    "outputExpanded": false,
    "run_control": {
     "frozen": false,
     "read_only": false
    }
   },
   "outputs": [],
   "source": [
    "import pandas as pd\n",
    "import matplotlib.pyplot as plt, mpld3\n",
    "import ThermoPyle as TP\n",
    "import numpy as np\n",
    "import itertools as it\n",
    "%matplotlib notebook\n",
    "mpld3.enable_notebook()\n",
    "#print(plt.style.available)\n",
    "plt.style.use([\"seaborn-talk\",\"seaborn-notebook\",\"seaborn-paper\"])"
   ]
  },
  {
   "cell_type": "code",
   "execution_count": null,
   "metadata": {
    "ExecuteTime": {
     "end_time": "2017-12-15T19:26:09.578692Z",
     "start_time": "2017-12-15T19:25:58.712348Z"
    },
    "outputExpanded": false,
    "run_control": {
     "frozen": false,
     "read_only": false
    }
   },
   "outputs": [],
   "source": [
    "Water = TP.ThermoFluid(fluid=\"Water\", xvar=\"T\", yvar=\"P\", zvar=\"U\", numPoints=[217,217])"
   ]
  },
  {
   "cell_type": "code",
   "execution_count": null,
   "metadata": {
    "ExecuteTime": {
     "end_time": "2017-12-15T19:26:48.481768Z",
     "start_time": "2017-12-15T19:26:11.667067Z"
    },
    "run_control": {
     "frozen": false,
     "read_only": false
    }
   },
   "outputs": [],
   "source": [
    "Water.add_column([\"S\", \"D\"])"
   ]
  },
  {
   "cell_type": "code",
   "execution_count": null,
   "metadata": {
    "ExecuteTime": {
     "end_time": "2017-12-15T19:26:51.837805Z",
     "start_time": "2017-12-15T19:26:51.697180Z"
    },
    "run_control": {
     "frozen": false,
     "read_only": false
    }
   },
   "outputs": [],
   "source": [
    "Water.data[\"V\"] = pd.Series(Water.M / Water.data[\"D\"], index=Water.data.index)"
   ]
  },
  {
   "cell_type": "code",
   "execution_count": null,
   "metadata": {
    "ExecuteTime": {
     "end_time": "2017-12-15T19:26:53.515398Z",
     "start_time": "2017-12-15T19:26:53.468522Z"
    }
   },
   "outputs": [],
   "source": [
    "Water.refresh()\n",
    "Water.vars"
   ]
  },
  {
   "cell_type": "code",
   "execution_count": null,
   "metadata": {
    "ExecuteTime": {
     "end_time": "2017-12-15T19:27:18.400164Z",
     "start_time": "2017-12-15T19:27:18.384544Z"
    }
   },
   "outputs": [],
   "source": [
    "d_vars = set(Water.vars).difference({\"V\"})\n",
    "newCols = {f\"d({z})/d({y})|{x}\" for x,y,z in it.permutations(d_vars, 3)}.union(d_vars).difference(set(Water.vars))\n",
    "# print(newCols)\n",
    "#len(newCols)"
   ]
  },
  {
   "cell_type": "code",
   "execution_count": null,
   "metadata": {
    "ExecuteTime": {
     "end_time": "2017-12-15T19:39:19.890749Z",
     "start_time": "2017-12-15T19:29:09.485341Z"
    }
   },
   "outputs": [],
   "source": [
    "for col in newCols:\n",
    "    try:    \n",
    "        Water.add_column(col)\n",
    "    except:\n",
    "        print(\"Failed\")\n",
    "Water.refresh()"
   ]
  },
  {
   "cell_type": "code",
   "execution_count": null,
   "metadata": {
    "ExecuteTime": {
     "end_time": "2017-04-05T16:03:21.375763Z",
     "start_time": "2017-04-05T11:03:19.939527-05:00"
    }
   },
   "outputs": [],
   "source": [
    "Water.write_data(path=\"../finalData/\", filename=\"_withVolume\", mode=\"dual\")"
   ]
  },
  {
   "cell_type": "code",
   "execution_count": null,
   "metadata": {
    "ExecuteTime": {
     "end_time": "2017-04-05T16:02:25.902897Z",
     "start_time": "2017-04-05T11:02:25.870914-05:00"
    }
   },
   "outputs": [],
   "source": [
    "print(Water.write_data.__doc__)"
   ]
  },
  {
   "cell_type": "code",
   "execution_count": null,
   "metadata": {},
   "outputs": [],
   "source": []
  }
 ],
 "metadata": {
  "celltoolbar": "Raw Cell Format",
  "kernel_info": {
   "name": "python3"
  },
  "kernelspec": {
   "display_name": "Python 3",
   "language": "python",
   "name": "python3"
  },
  "language_info": {
   "codemirror_mode": {
    "name": "ipython",
    "version": 3
   },
   "file_extension": ".py",
   "mimetype": "text/x-python",
   "name": "python",
   "nbconvert_exporter": "python",
   "pygments_lexer": "ipython3",
   "version": "3.6.3"
  },
  "latex_envs": {
   "LaTeX_envs_menu_present": true,
   "bibliofile": "biblio.bib",
   "cite_by": "apalike",
   "current_citInitial": 1,
   "eqLabelWithNumbers": true,
   "eqNumInitial": 1,
   "hotkeys": {
    "equation": "Ctrl-E",
    "itemize": "Ctrl-I"
   },
   "labels_anchors": false,
   "latex_user_defs": false,
   "report_style_numbering": false,
   "user_envs_cfg": false
  },
  "varInspector": {
   "cols": {
    "lenName": 16,
    "lenType": 16,
    "lenVar": 40
   },
   "kernels_config": {
    "python": {
     "delete_cmd_postfix": "",
     "delete_cmd_prefix": "del ",
     "library": "var_list.py",
     "varRefreshCmd": "print(var_dic_list())"
    },
    "r": {
     "delete_cmd_postfix": ") ",
     "delete_cmd_prefix": "rm(",
     "library": "var_list.r",
     "varRefreshCmd": "cat(var_dic_list()) "
    }
   },
   "types_to_exclude": [
    "module",
    "function",
    "builtin_function_or_method",
    "instance",
    "_Feature"
   ],
   "window_display": false
  }
 },
 "nbformat": 4,
 "nbformat_minor": 1
}
