{
 "cells": [
  {
   "cell_type": "code",
   "execution_count": 1,
   "metadata": {
    "collapsed": false,
    "deletable": true,
    "editable": true,
    "outputExpanded": false
   },
   "outputs": [],
   "source": [
    "import pandas as pd\n",
    "import numpy as np\n",
    "import matplotlib.pyplot as plt\n",
    "import genericDataGrabber as DG\n",
    "%matplotlib inline\n",
    "\n",
    "#print(plt.style.available)\n",
    "plt.style.use([\"seaborn-talk\",\"seaborn-notebook\",\"seaborn-paper\"])"
   ]
  },
  {
   "cell_type": "code",
   "execution_count": 3,
   "metadata": {
    "collapsed": false,
    "deletable": true,
    "editable": true,
    "outputExpanded": false
   },
   "outputs": [
    {
     "ename": "ValueError",
     "evalue": "unable to solve 1phase PY flash with Tmin=279.57, Tmax=3000 due to error: HSU_P_flash_singlephase_Brent could not find a solution because Umolar [162.137 J/mol] is below the minimum value of 162.519601247 J/mol : PropsSI(\"S\",\"P\",696969882.3,\"U\",9000,\"Water\")",
     "output_type": "error",
     "traceback": [
      "\u001b[0;31m---------------------------------------------------------------------------\u001b[0m",
      "\u001b[0;31mValueError\u001b[0m                                Traceback (most recent call last)",
      "\u001b[0;32m<ipython-input-3-d5daea304afa>\u001b[0m in \u001b[0;36m<module>\u001b[0;34m()\u001b[0m\n\u001b[0;32m----> 1\u001b[0;31m \u001b[0mmyfluid\u001b[0m \u001b[1;33m=\u001b[0m \u001b[0mDG\u001b[0m\u001b[1;33m.\u001b[0m\u001b[0mThermoFluid\u001b[0m\u001b[1;33m(\u001b[0m\u001b[1;34m\"Water\"\u001b[0m\u001b[1;33m,\u001b[0m \u001b[1;34m\"P\"\u001b[0m\u001b[1;33m,\u001b[0m \u001b[1;34m\"U\"\u001b[0m\u001b[1;33m,\u001b[0m \u001b[1;34m\"S\"\u001b[0m\u001b[1;33m,\u001b[0m \u001b[1;36m100\u001b[0m\u001b[1;33m,\u001b[0m \u001b[1;34m\"viridis\"\u001b[0m\u001b[1;33m)\u001b[0m\u001b[1;33m\u001b[0m\u001b[0m\n\u001b[0m\u001b[1;32m      2\u001b[0m \u001b[0mprint\u001b[0m\u001b[1;33m(\u001b[0m\u001b[0mmyfluid\u001b[0m\u001b[1;33m.\u001b[0m\u001b[0mdata\u001b[0m\u001b[1;33m.\u001b[0m\u001b[0mshape\u001b[0m\u001b[1;33m)\u001b[0m\u001b[1;33m\u001b[0m\u001b[0m\n\u001b[1;32m      3\u001b[0m \u001b[1;31m# myfluid.show_plot()\u001b[0m\u001b[1;33m\u001b[0m\u001b[1;33m\u001b[0m\u001b[0m\n",
      "\u001b[0;32mC:\\Users\\at8183jk\\Desktop\\Drive\\Dropsync\\School\\Winona\\ResearchProject\\code\\python\\genericDataGrabber.py\u001b[0m in \u001b[0;36m__init__\u001b[0;34m(self, fluid, var1, var2, outvar, numPoints, colorMap)\u001b[0m\n\u001b[1;32m    139\u001b[0m                     data.append([\n\u001b[1;32m    140\u001b[0m                         x, y, CP.PropsSI(self.zvar, self.xvar, x, self.yvar, y,\n\u001b[0;32m--> 141\u001b[0;31m                                          self.fluid)\n\u001b[0m\u001b[1;32m    142\u001b[0m                     ])\n\u001b[1;32m    143\u001b[0m         \u001b[1;32melif\u001b[0m \u001b[0mself\u001b[0m\u001b[1;33m.\u001b[0m\u001b[0mxvar\u001b[0m \u001b[1;33m==\u001b[0m \u001b[1;34m\"V\"\u001b[0m\u001b[1;33m:\u001b[0m\u001b[1;33m\u001b[0m\u001b[0m\n",
      "\u001b[0;32mCoolProp/CoolProp.pyx\u001b[0m in \u001b[0;36mCoolProp.CoolProp.PropsSI (CoolProp\\CoolProp.cpp:36859)\u001b[0;34m()\u001b[0m\n",
      "\u001b[0;32mCoolProp/CoolProp.pyx\u001b[0m in \u001b[0;36mCoolProp.CoolProp.PropsSI (CoolProp\\CoolProp.cpp:36644)\u001b[0;34m()\u001b[0m\n",
      "\u001b[0;32mCoolProp/CoolProp.pyx\u001b[0m in \u001b[0;36mCoolProp.CoolProp.__Props_err2 (CoolProp\\CoolProp.cpp:34849)\u001b[0;34m()\u001b[0m\n",
      "\u001b[0;31mValueError\u001b[0m: unable to solve 1phase PY flash with Tmin=279.57, Tmax=3000 due to error: HSU_P_flash_singlephase_Brent could not find a solution because Umolar [162.137 J/mol] is below the minimum value of 162.519601247 J/mol : PropsSI(\"S\",\"P\",696969882.3,\"U\",9000,\"Water\")"
     ]
    }
   ],
   "source": [
    "myfluid = DG.ThermoFluid(\"Water\", \"P\", \"U\", \"S\", 100, \"viridis\")\n",
    "print(myfluid.data.shape)\n",
    "# myfluid.show_plot()"
   ]
  },
  {
   "cell_type": "code",
   "execution_count": null,
   "metadata": {
    "collapsed": false,
    "deletable": true,
    "editable": true,
    "outputExpanded": false
   },
   "outputs": [],
   "source": [
    "myfluid.write_data()"
   ]
  },
  {
   "cell_type": "code",
   "execution_count": null,
   "metadata": {
    "collapsed": false,
    "deletable": true,
    "editable": true
   },
   "outputs": [],
   "source": [
    "min(myfluid.data[\"U\"])"
   ]
  },
  {
   "cell_type": "code",
   "execution_count": null,
   "metadata": {
    "collapsed": false
   },
   "outputs": [],
   "source": [
    "6000000-Out[4]"
   ]
  },
  {
   "cell_type": "code",
   "execution_count": null,
   "metadata": {
    "collapsed": true
   },
   "outputs": [],
   "source": []
  }
 ],
 "metadata": {
  "celltoolbar": "Raw Cell Format",
  "kernel_info": {
   "name": "python3"
  },
  "kernelspec": {
   "display_name": "Python 3",
   "language": "python",
   "name": "python3"
  },
  "language_info": {
   "codemirror_mode": {
    "name": "ipython",
    "version": 3
   },
   "file_extension": ".py",
   "mimetype": "text/x-python",
   "name": "python",
   "nbconvert_exporter": "python",
   "pygments_lexer": "ipython3",
   "version": "3.6.0"
  }
 },
 "nbformat": 4,
 "nbformat_minor": 2
}
